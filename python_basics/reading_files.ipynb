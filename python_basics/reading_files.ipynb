{
 "cells": [
  {
   "cell_type": "markdown",
   "metadata": {},
   "source": [
    "Download data   "
   ]
  },
  {
   "cell_type": "code",
   "execution_count": 7,
   "metadata": {},
   "outputs": [
    {
     "name": "stdout",
     "output_type": "stream",
     "text": [
      "This is line 1 \n",
      "This is line 2\n",
      "This is line 3\n"
     ]
    }
   ],
   "source": [
    "\n",
    "from urllib import request\n",
    "import ssl\n",
    "\n",
    "try:\n",
    "    _create_unverified_https_context = ssl._create_unverified_context\n",
    "except AttributeError:\n",
    "    # Legacy Python that doesn't verify HTTPS certificates by default\n",
    "    pass\n",
    "else:\n",
    "    # Handle target environment that doesn't support HTTPS verification\n",
    "    ssl._create_default_https_context = _create_unverified_https_context\n",
    "    \n",
    "url = 'https://cf-courses-data.s3.us.cloud-object-storage.appdomain.cloud/IBMDeveloperSkillsNetwork-PY0101EN-SkillsNetwork/labs/Module%204/data/example1.txt'\n",
    "fileName = \"Example1.txt\"\n",
    "response = request.urlretrieve(url, fileName)\n",
    "\n",
    "with open(fileName, 'r')as file1:\n",
    "    fileContent = file1.read()\n",
    "    print(fileContent)\n"
   ]
  },
  {
   "cell_type": "code",
   "execution_count": 12,
   "metadata": {},
   "outputs": [
    {
     "name": "stdout",
     "output_type": "stream",
     "text": [
      "This is line A\n",
      "This is line B\n",
      "This is line C\n",
      "\n",
      "This is line A\n",
      "This is line B\n",
      "This is line C\n",
      "This is line D\n",
      "\n"
     ]
    }
   ],
   "source": [
    "Lines = [\"This is line A\\n\", \"This is line B\\n\", \"This is line C\\n\"]\n",
    "writeFileName = \"Example2.txt\"\n",
    "with open(writeFileName , \"w+\") as writeFile:\n",
    "    for line in Lines:\n",
    "        writeFile.write(line)\n",
    "    writeFile.seek(0, 0)\n",
    "    print(writeFile.read())\n",
    "    \n",
    "with open(writeFileName, \"a+\") as appendFile:\n",
    "    appendFile.write(\"This is line D\\n\")\n",
    "    appendFile.seek(0, 0)\n",
    "    print(appendFile.read())\n",
    "    "
   ]
  },
  {
   "cell_type": "markdown",
   "metadata": {},
   "source": [
    "Your local university's Raptors fan club maintains a register of its active members on a .txt document. Every month they update the file by removing the members who are not active. You have been tasked with automating this with your Python skills.\n",
    "Given the file currentMem, Remove each member with a 'no' in their Active column. Keep track of each of the removed members and append them to the exMem file. Make sure that the format of the original files in preserved. (Hint: Do this by reading/writing whole lines and ensuring the header remains )"
   ]
  },
  {
   "cell_type": "code",
   "execution_count": 34,
   "metadata": {},
   "outputs": [],
   "source": [
    "from random import randint as rnd\n",
    "\n",
    "memReg = 'members.txt'\n",
    "exReg = 'inactive.txt'\n",
    "fee =('yes','no')\n",
    "\n",
    "def genFiles(current,old):\n",
    "    with open(current,'w+') as writefile: \n",
    "        writefile.write('Membership No  Date Joined  Active  \\n')\n",
    "        data = \"{:^13}  {:<11}  {:<6}\\n\"\n",
    "\n",
    "        for rowno in range(20):\n",
    "            date = str(rnd(2015,2020))+ '-' + str(rnd(1,12))+'-'+str(rnd(1,25))\n",
    "            writefile.write(data.format(rnd(10000,99999),date,fee[rnd(0,1)]))\n",
    "\n",
    "\n",
    "    with open(old,'w+') as writefile: \n",
    "        writefile.write('Membership No  Date Joined  Active  \\n')\n",
    "        data = \"{:^13}  {:<11}  {:<6}\\n\"\n",
    "        for rowno in range(3):\n",
    "            date = str(rnd(2015,2020))+ '-' + str(rnd(1,12))+'-'+str(rnd(1,25))\n",
    "            writefile.write(data.format(rnd(10000,99999),date,fee[1]))\n",
    "\n",
    "\n",
    "genFiles(memReg,exReg)"
   ]
  },
  {
   "cell_type": "markdown",
   "metadata": {},
   "source": [
    "The two arguments for this function are the files:\n",
    "    - currentMem: File containing list of current members\n",
    "    - exMem: File containing list of old members\n",
    "    \n",
    "    This function should remove all rows from currentMem containing 'no' \n",
    "    in the 'Active' column and appends them to exMem."
   ]
  },
  {
   "cell_type": "code",
   "execution_count": 35,
   "metadata": {},
   "outputs": [
    {
     "name": "stdout",
     "output_type": "stream",
     "text": [
      "Active Members: \n",
      "\n",
      "\n",
      "Membership No  Date Joined  Active  \n",
      "    77285      2017-11-10   yes   \n",
      "    81133      2016-10-18   yes   \n",
      "    67183      2016-8-19    yes   \n",
      "    72247      2017-11-17   yes   \n",
      "    88800      2017-1-3     yes   \n",
      "    33724      2020-8-16    yes   \n",
      "    78983      2016-1-18    yes   \n",
      "    92833      2018-3-3     yes   \n",
      "    41546      2019-5-12    yes   \n",
      "    63619      2015-2-9     yes   \n",
      "    91592      2016-5-10    yes   \n",
      "    72957      2016-5-16    yes   \n",
      "\n",
      "Inactive Members: \n",
      "\n",
      "\n",
      "Membership No  Date Joined  Active  \n",
      "    34715      2016-9-22    no    \n",
      "    72680      2016-4-10    no    \n",
      "    90470      2019-1-5     no    \n",
      "    77700      2019-8-21    no    \n",
      "    60761      2017-2-25    no    \n",
      "    83648      2015-12-5    no    \n",
      "    90629      2019-10-12   no    \n",
      "    90453      2017-5-23    no    \n",
      "    62547      2020-1-14    no    \n",
      "    42447      2020-5-11    no    \n",
      "    84948      2020-2-3     no    \n",
      "\n"
     ]
    }
   ],
   "source": [
    "def cleanFiles(currentMem, exMem):\n",
    "    with open(currentMem, 'r+') as currentFile:\n",
    "        with open(exMem, 'a+') as exFile:\n",
    "            currentFile.seek(0)\n",
    "            currentList = currentFile.readlines()\n",
    "            #remove the header\n",
    "            header = currentList[0]\n",
    "            currentList.pop(0)\n",
    "                    \n",
    "            currentFile.seek(0)\n",
    "            currentFile.write(header)\n",
    "            \n",
    "            for member in currentList:\n",
    "                if 'no' in member:\n",
    "                    exFile.write(member)\n",
    "                else:\n",
    "                    currentFile.write(member)\n",
    "            currentFile.truncate()\n",
    "\n",
    "\n",
    "memReg = 'members.txt'\n",
    "exReg = 'inactive.txt'\n",
    "cleanFiles(memReg,exReg)\n",
    "\n",
    "\n",
    "headers = \"Membership No  Date Joined  Active  \\n\"\n",
    "with open(memReg,'r') as readFile:\n",
    "    print(\"Active Members: \\n\\n\")\n",
    "    print(readFile.read())\n",
    "    \n",
    "with open(exReg,'r') as readFile:\n",
    "    print(\"Inactive Members: \\n\\n\")\n",
    "    print(readFile.read())                   "
   ]
  },
  {
   "cell_type": "code",
   "execution_count": 38,
   "metadata": {},
   "outputs": [
    {
     "name": "stdout",
     "output_type": "stream",
     "text": [
      "Test Passed\n"
     ]
    }
   ],
   "source": [
    "def testMsg(passed):\n",
    "    if passed:\n",
    "       return 'Test Passed'\n",
    "    else :\n",
    "       return 'Test Failed'\n",
    "\n",
    "testWrite = \"testWrite.txt\"\n",
    "testAppend = \"testAppend.txt\" \n",
    "passed = True\n",
    "\n",
    "genFiles(testWrite,testAppend)\n",
    "\n",
    "with open(testWrite,'r') as file:\n",
    "    ogWrite = file.readlines()\n",
    "\n",
    "with open(testAppend,'r') as file:\n",
    "    ogAppend = file.readlines()\n",
    "\n",
    "try:\n",
    "    cleanFiles(testWrite,testAppend)\n",
    "except:\n",
    "    print('Error')\n",
    "\n",
    "with open(testWrite,'r') as file:\n",
    "    clWrite = file.readlines()\n",
    "\n",
    "with open(testAppend,'r') as file:\n",
    "    clAppend = file.readlines()\n",
    "        \n",
    "# checking if total no of rows is same, including headers\n",
    "\n",
    "if (len(ogWrite) + len(ogAppend) != len(clWrite) + len(clAppend)):\n",
    "    print(\"The number of rows do not add up. Make sure your final files have the same header and format.\")\n",
    "    passed = False\n",
    "    \n",
    "for line in clWrite:\n",
    "    if  'no' in line:\n",
    "        passed = False\n",
    "        print(\"Inactive members in file\")\n",
    "        break\n",
    "    else:\n",
    "        if line not in ogWrite:\n",
    "            print(\"Data in file does not match original file\")\n",
    "            passed = False\n",
    "print (\"{}\".format(testMsg(passed)))"
   ]
  }
 ],
 "metadata": {
  "interpreter": {
   "hash": "aee8b7b246df8f9039afb4144a1f6fd8d2ca17a180786b69acc140d282b71a49"
  },
  "kernelspec": {
   "display_name": "Python 3.9.7 64-bit",
   "language": "python",
   "name": "python3"
  },
  "language_info": {
   "name": "python",
   "version": "3.9.7"
  },
  "orig_nbformat": 4
 },
 "nbformat": 4,
 "nbformat_minor": 2
}
